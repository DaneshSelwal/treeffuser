{
 "cells": [
  {
   "cell_type": "code",
   "execution_count": null,
   "metadata": {
    "ExecuteTime": {
     "end_time": "2024-03-12T23:46:57.106279Z",
     "start_time": "2024-03-12T23:46:56.484698Z"
    }
   },
   "outputs": [],
   "source": [
    "import numpy as np\n",
    "\n",
    "from sklearn.model_selection import train_test_split\n",
    "\n",
    "from data.utils import list_data, get_data\n",
    "from metrics import compare_accuracy\n",
    "\n",
    "from treeffuser import LightGBMTreeffuser\n",
    "from treeffuser.sde.initialize import initialize_sde\n",
    "from ngboost import NGBRegressor"
   ]
  },
  {
   "cell_type": "markdown",
   "metadata": {},
   "source": [
    "## Data"
   ]
  },
  {
   "cell_type": "code",
   "execution_count": null,
   "metadata": {
    "ExecuteTime": {
     "end_time": "2024-03-12T23:46:57.110423Z",
     "start_time": "2024-03-12T23:46:57.106720Z"
    }
   },
   "outputs": [],
   "source": [
    "list_data()"
   ]
  },
  {
   "cell_type": "code",
   "execution_count": null,
   "metadata": {
    "ExecuteTime": {
     "end_time": "2024-03-12T23:46:57.114247Z",
     "start_time": "2024-03-12T23:46:57.110662Z"
    }
   },
   "outputs": [],
   "source": [
    "data = get_data(\"naval\", verbose=True)\n",
    "print(data.keys())\n",
    "print(f\"Categorical variables: {data['categorical']}\")"
   ]
  },
  {
   "cell_type": "code",
   "execution_count": null,
   "metadata": {
    "ExecuteTime": {
     "end_time": "2024-03-12T23:46:57.117728Z",
     "start_time": "2024-03-12T23:46:57.115221Z"
    }
   },
   "outputs": [],
   "source": [
    "X_train, X_test, y_train, y_test = train_test_split(\n",
    "    data[\"x\"], data[\"y\"], test_size=0.2, random_state=42\n",
    ")"
   ]
  },
  {
   "cell_type": "markdown",
   "metadata": {},
   "source": [
    "## Models"
   ]
  },
  {
   "cell_type": "code",
   "execution_count": null,
   "metadata": {
    "ExecuteTime": {
     "end_time": "2024-03-12T23:46:57.119792Z",
     "start_time": "2024-03-12T23:46:57.118157Z"
    }
   },
   "outputs": [],
   "source": [
    "model = {}\n",
    "preds = {}\n",
    "\n",
    "print(y_train.max())\n",
    "print(y_train.max() - y_train.min())\n",
    "print(y_train.std())"
   ]
  },
  {
   "cell_type": "markdown",
   "metadata": {},
   "source": [
    "First, we fit treeffuser."
   ]
  },
  {
   "cell_type": "code",
   "execution_count": null,
   "metadata": {
    "ExecuteTime": {
     "end_time": "2024-03-12T23:48:00.538907Z",
     "start_time": "2024-03-12T23:46:57.120257Z"
    }
   },
   "outputs": [],
   "source": [
    "for sde in [\"vesde\", \"vpsde\", \"sub-vpsde\"]:\n",
    "    model_name = \"treeffuser-\" + sde\n",
    "    model[model_name] = LightGBMTreeffuser(\n",
    "        verbose=1,\n",
    "        n_repeats=100,\n",
    "        n_estimators=10**4,\n",
    "        sde_name=sde,\n",
    "        sde_initialize_with_data=True,\n",
    "        learning_rate=0.1,\n",
    "        early_stopping_rounds=50,\n",
    "    )\n",
    "    temp = model[model_name].fit(\n",
    "        X_train, y_train\n",
    "    )  # \"temp=\" is as a temp fix for Issue #26, see github.com/blei-lab/tree-diffuser/issues/26\n",
    "\n",
    "    print(model[model_name].score_config.sde)"
   ]
  },
  {
   "cell_type": "markdown",
   "metadata": {},
   "source": [
    "We then sample from the fitted model."
   ]
  },
  {
   "cell_type": "code",
   "execution_count": null,
   "metadata": {
    "ExecuteTime": {
     "end_time": "2024-03-12T23:48:01.678642Z",
     "start_time": "2024-03-12T23:48:00.539099Z"
    }
   },
   "outputs": [],
   "source": [
    "for sde in [\"vesde\", \"vpsde\", \"sub-vpsde\"]:\n",
    "    model_name = \"treeffuser-\" + sde\n",
    "    y_samples = model[model_name].sample(\n",
    "        X_test, n_samples=1, n_parallel=100, n_steps=100, seed=0\n",
    "    )\n",
    "    preds[model_name] = y_samples.mean(axis=1)"
   ]
  },
  {
   "cell_type": "markdown",
   "metadata": {},
   "source": [
    "Next, we run NGBoost with Gaussian likelihood."
   ]
  },
  {
   "cell_type": "code",
   "execution_count": null,
   "metadata": {},
   "outputs": [],
   "source": [
    "model[\"ngb\"] = NGBRegressor(n_estimators=10**4, early_stopping_rounds=50)\n",
    "\n",
    "model[\"ngb\"].fit(X_train, y_train)"
   ]
  },
  {
   "cell_type": "code",
   "execution_count": null,
   "metadata": {
    "ExecuteTime": {
     "end_time": "2024-03-12T23:48:21.042093Z",
     "start_time": "2024-03-12T23:48:01.679514Z"
    }
   },
   "outputs": [],
   "source": [
    "y_dim = data[\"y\"].shape[1]\n",
    "preds[\"ngb\"] = model[\"ngb\"].predict(X_test).reshape((-1, y_dim))"
   ]
  },
  {
   "cell_type": "markdown",
   "metadata": {},
   "source": [
    "## Metrics"
   ]
  },
  {
   "cell_type": "code",
   "execution_count": null,
   "metadata": {
    "ExecuteTime": {
     "end_time": "2024-03-12T23:48:21.046706Z",
     "start_time": "2024-03-12T23:48:21.042384Z"
    }
   },
   "outputs": [],
   "source": [
    "metrics = compare_accuracy(preds, y_test, print_table=True)"
   ]
  }
 ],
 "metadata": {
  "kernelspec": {
   "display_name": ".venv",
   "language": "python",
   "name": "python3"
  },
  "language_info": {
   "codemirror_mode": {
    "name": "ipython",
    "version": 3
   },
   "file_extension": ".py",
   "mimetype": "text/x-python",
   "name": "python",
   "nbconvert_exporter": "python",
   "pygments_lexer": "ipython3",
   "version": "3.11.5"
  }
 },
 "nbformat": 4,
 "nbformat_minor": 2
}
