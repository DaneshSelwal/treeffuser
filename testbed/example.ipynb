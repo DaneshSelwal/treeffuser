{
 "cells": [
  {
   "cell_type": "code",
   "execution_count": 1,
   "metadata": {},
   "outputs": [],
   "source": [
    "import numpy as np\n",
    "\n",
    "from sklearn.model_selection import train_test_split\n",
    "\n",
    "from data.utils import list_data(), get_data()\n",
    "from metrics import compare_accuracy\n",
    "\n",
    "from treeffuser import LightGBMTreeffuser\n",
    "from ngboost import NGBRegressor"
   ]
  },
  {
   "cell_type": "markdown",
   "metadata": {},
   "source": [
    "## Data"
   ]
  },
  {
   "cell_type": "code",
   "execution_count": 2,
   "metadata": {},
   "outputs": [
    {
     "data": {
      "text/plain": [
       "['naval', 'protein', 'wine', 'yacht']"
      ]
     },
     "execution_count": 2,
     "metadata": {},
     "output_type": "execute_result"
    }
   ],
   "source": [
    "list_uci_data()"
   ]
  },
  {
   "cell_type": "code",
   "execution_count": 3,
   "metadata": {},
   "outputs": [
    {
     "name": "stdout",
     "output_type": "stream",
     "text": [
      "dataset: yacht\n",
      "# of observations: 308, # of covariates: 6, dimension of outcome: 1\n",
      "dict_keys(['x', 'y', 'categorical'])\n",
      "Categorical variables: []\n"
     ]
    }
   ],
   "source": [
    "data = get_uci_data(\"yacht\", verbose=True)\n",
    "print(data.keys())\n",
    "print(f\"Categorical variables: {data['categorical']}\")"
   ]
  },
  {
   "cell_type": "code",
   "execution_count": 4,
   "metadata": {},
   "outputs": [],
   "source": [
    "X_train, X_test, y_train, y_test = train_test_split(\n",
    "    data[\"x\"], data[\"y\"], test_size=0.2, random_state=42\n",
    ")"
   ]
  },
  {
   "cell_type": "markdown",
   "metadata": {},
   "source": [
    "## Models"
   ]
  },
  {
   "cell_type": "code",
   "execution_count": 5,
   "metadata": {},
   "outputs": [],
   "source": [
    "model = {}\n",
    "preds = {}"
   ]
  },
  {
   "cell_type": "markdown",
   "metadata": {},
   "source": [
    "First, we fit treeffuser."
   ]
  },
  {
   "cell_type": "code",
   "execution_count": 6,
   "metadata": {},
   "outputs": [
    {
     "name": "stdout",
     "output_type": "stream",
     "text": [
      "[LightGBM] [Info] Auto-choosing row-wise multi-threading, the overhead of testing was 0.000220 seconds.\n",
      "You can set `force_row_wise=true` to remove the overhead.\n",
      "And if memory is not enough, you can set `force_col_wise=true`.\n",
      "[LightGBM] [Info] Total Bins 580\n",
      "[LightGBM] [Info] Number of data points in the train set: 24600, number of used features: 8\n",
      "[LightGBM] [Info] Start training from score 0.002828\n",
      "Training until validation scores don't improve for 50 rounds\n",
      "Early stopping, best iteration is:\n",
      "[718]\tvalid_0's l2: 0.0183032\n"
     ]
    }
   ],
   "source": [
    "model[\"treeffuser\"] = LightGBMTreeffuser(\n",
    "    verbose=1,\n",
    "    n_repeats=100,\n",
    "    n_estimators=10000,\n",
    "    sde_name=\"vesde\",\n",
    "    learning_rate=0.1,\n",
    "    early_stopping_rounds=50,\n",
    ")\n",
    "temp = model[\"treeffuser\"].fit(\n",
    "    X_train, y_train\n",
    ")  # \"temp=\" is as a temp fix for Issue #26, see github.com/blei-lab/tree-diffuser/issues/26"
   ]
  },
  {
   "cell_type": "markdown",
   "metadata": {},
   "source": [
    "We then sample from the fitted model."
   ]
  },
  {
   "cell_type": "code",
   "execution_count": 7,
   "metadata": {},
   "outputs": [
    {
     "name": "stderr",
     "output_type": "stream",
     "text": [
      "100it [00:00, 109.63it/s]            \n"
     ]
    }
   ],
   "source": [
    "y_samples = model[\"treeffuser\"].sample(\n",
    "    X_test, n_samples=1, n_parallel=100, denoise=False, n_steps=30, seed=0\n",
    ")\n",
    "preds[\"treeffuser\"] = y_samples.mean(axis=1)"
   ]
  },
  {
   "cell_type": "markdown",
   "metadata": {},
   "source": [
    "Next, we run NGBoost with Gaussian likelihood."
   ]
  },
  {
   "cell_type": "code",
   "execution_count": 8,
   "metadata": {},
   "outputs": [
    {
     "name": "stderr",
     "output_type": "stream",
     "text": [
      "/Users/agrande/Desktop/tree-diffuser/.venv/lib/python3.11/site-packages/sklearn/utils/validation.py:1300: DataConversionWarning: A column-vector y was passed when a 1d array was expected. Please change the shape of y to (n_samples, ), for example using ravel().\n",
      "  y = column_or_1d(y, warn=True)\n"
     ]
    },
    {
     "name": "stdout",
     "output_type": "stream",
     "text": [
      "[iter 0] loss=4.1709 val_loss=0.0000 scale=1.0000 norm=12.2006\n",
      "[iter 100] loss=2.9329 val_loss=0.0000 scale=2.0000 norm=3.7028\n",
      "[iter 200] loss=1.9562 val_loss=0.0000 scale=2.0000 norm=1.4216\n",
      "[iter 300] loss=1.0421 val_loss=0.0000 scale=2.0000 norm=1.1655\n",
      "[iter 400] loss=0.3063 val_loss=0.0000 scale=2.0000 norm=1.0317\n"
     ]
    }
   ],
   "source": [
    "model[\"ngb\"] = NGBRegressor()\n",
    "\n",
    "model[\"ngb\"].fit(X_train, y_train)\n",
    "\n",
    "y_dim = data[\"y\"].shape[1]\n",
    "preds[\"ngb\"] = model[\"ngb\"].predict(X_test).reshape((-1, y_dim))"
   ]
  },
  {
   "cell_type": "markdown",
   "metadata": {},
   "source": [
    "## Metrics"
   ]
  },
  {
   "cell_type": "code",
   "execution_count": 9,
   "metadata": {},
   "outputs": [
    {
     "name": "stdout",
     "output_type": "stream",
     "text": [
      "+------------+---------------------+--------------------+---------------------+--------------------+--------------------+--------------------+\n",
      "|   Method   |         mae         |        rmse        |         mdae        |       marpd        |         r2         |        corr        |\n",
      "+------------+---------------------+--------------------+---------------------+--------------------+--------------------+--------------------+\n",
      "| treeffuser | 0.40690423263030795 | 0.821200077340465  | 0.15212195630136444 | 20.380399866908114 | 0.9954614502325652 | 0.9977360419408013 |\n",
      "|    ngb     |  0.2681759418723791 | 0.5737286821495425 | 0.12379010196374282 | 17.80290905044615  | 0.9977847014528798 | 0.9989865427029946 |\n",
      "+------------+---------------------+--------------------+---------------------+--------------------+--------------------+--------------------+\n"
     ]
    }
   ],
   "source": [
    "metrics = compare_accuracy(preds, y_test, print_table=True)"
   ]
  }
 ],
 "metadata": {
  "kernelspec": {
   "display_name": ".venv",
   "language": "python",
   "name": "python3"
  },
  "language_info": {
   "codemirror_mode": {
    "name": "ipython",
    "version": 3
   },
   "file_extension": ".py",
   "mimetype": "text/x-python",
   "name": "python",
   "nbconvert_exporter": "python",
   "pygments_lexer": "ipython3",
   "version": "3.11.5"
  }
 },
 "nbformat": 4,
 "nbformat_minor": 2
}
