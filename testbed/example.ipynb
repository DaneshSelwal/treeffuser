{
 "cells": [
  {
   "cell_type": "code",
   "execution_count": 1,
   "metadata": {
    "ExecuteTime": {
     "end_time": "2024-03-12T23:46:57.106279Z",
     "start_time": "2024-03-12T23:46:56.484698Z"
    }
   },
   "outputs": [],
   "source": [
    "import numpy as np\n",
    "\n",
    "from sklearn.model_selection import train_test_split\n",
    "\n",
    "from data.utils import list_data, get_data\n",
    "from metrics import compare_accuracy\n",
    "\n",
    "from treeffuser import LightGBMTreeffuser\n",
    "from ngboost import NGBRegressor"
   ]
  },
  {
   "cell_type": "markdown",
   "metadata": {},
   "source": [
    "## Data"
   ]
  },
  {
   "cell_type": "code",
   "execution_count": 2,
   "metadata": {
    "ExecuteTime": {
     "end_time": "2024-03-12T23:46:57.110423Z",
     "start_time": "2024-03-12T23:46:57.106720Z"
    }
   },
   "outputs": [
    {
     "data": {
      "text/plain": "{'naval': 'data/uci/naval',\n 'protein': 'data/uci/protein',\n 'wine': 'data/uci/wine',\n 'yacht': 'data/uci/yacht'}"
     },
     "execution_count": 2,
     "metadata": {},
     "output_type": "execute_result"
    }
   ],
   "source": [
    "list_data()"
   ]
  },
  {
   "cell_type": "code",
   "execution_count": 3,
   "metadata": {
    "ExecuteTime": {
     "end_time": "2024-03-12T23:46:57.114247Z",
     "start_time": "2024-03-12T23:46:57.110662Z"
    }
   },
   "outputs": [
    {
     "name": "stdout",
     "output_type": "stream",
     "text": [
      "Getting naval dataset.\n",
      "# of observations: 11934, # of covariates: 17, dimension of outcome: 1\n",
      "dict_keys(['x', 'y', 'categorical'])\n",
      "Categorical variables: []\n"
     ]
    }
   ],
   "source": [
    "data = get_data(\"naval\", verbose=True)\n",
    "print(data.keys())\n",
    "print(f\"Categorical variables: {data['categorical']}\")"
   ]
  },
  {
   "cell_type": "code",
   "execution_count": 4,
   "metadata": {
    "ExecuteTime": {
     "end_time": "2024-03-12T23:46:57.117728Z",
     "start_time": "2024-03-12T23:46:57.115221Z"
    }
   },
   "outputs": [],
   "source": [
    "X_train, X_test, y_train, y_test = train_test_split(\n",
    "    data[\"x\"], data[\"y\"], test_size=0.2, random_state=42\n",
    ")"
   ]
  },
  {
   "cell_type": "markdown",
   "metadata": {},
   "source": [
    "## Models"
   ]
  },
  {
   "cell_type": "code",
   "execution_count": 5,
   "metadata": {
    "ExecuteTime": {
     "end_time": "2024-03-12T23:46:57.119792Z",
     "start_time": "2024-03-12T23:46:57.118157Z"
    }
   },
   "outputs": [],
   "source": [
    "model = {}\n",
    "preds = {}"
   ]
  },
  {
   "cell_type": "markdown",
   "metadata": {},
   "source": [
    "First, we fit treeffuser."
   ]
  },
  {
   "cell_type": "code",
   "execution_count": 6,
   "metadata": {
    "ExecuteTime": {
     "end_time": "2024-03-12T23:48:00.538907Z",
     "start_time": "2024-03-12T23:46:57.120257Z"
    }
   },
   "outputs": [
    {
     "name": "stdout",
     "output_type": "stream",
     "text": [
      "[LightGBM] [Info] Auto-choosing row-wise multi-threading, the overhead of testing was 0.002572 seconds.\n",
      "You can set `force_row_wise=true` to remove the overhead.\n",
      "And if memory is not enough, you can set `force_col_wise=true`.\n",
      "[LightGBM] [Info] Total Bins 3407\n",
      "[LightGBM] [Info] Number of data points in the train set: 954700, number of used features: 17\n",
      "[LightGBM] [Info] Start training from score 0.001627\n",
      "Training until validation scores don't improve for 50 rounds\n",
      "Early stopping, best iteration is:\n",
      "[6170]\tvalid_0's l2: 0.074176\n"
     ]
    }
   ],
   "source": [
    "model[\"treeffuser\"] = LightGBMTreeffuser(\n",
    "    verbose=1,\n",
    "    n_repeats=100,\n",
    "    n_estimators=10000,\n",
    "    sde_name=\"vesde\",\n",
    "    learning_rate=0.1,\n",
    "    early_stopping_rounds=50,\n",
    ")\n",
    "temp = model[\"treeffuser\"].fit(\n",
    "    X_train, y_train\n",
    ")  # \"temp=\" is as a temp fix for Issue #26, see github.com/blei-lab/tree-diffuser/issues/26"
   ]
  },
  {
   "cell_type": "markdown",
   "metadata": {},
   "source": [
    "We then sample from the fitted model."
   ]
  },
  {
   "cell_type": "code",
   "execution_count": 7,
   "metadata": {
    "ExecuteTime": {
     "end_time": "2024-03-12T23:48:01.678642Z",
     "start_time": "2024-03-12T23:48:00.539099Z"
    }
   },
   "outputs": [
    {
     "name": "stderr",
     "output_type": "stream",
     "text": [
      "100%|██████████| 1/1 [00:01<00:00,  1.12s/it]\n"
     ]
    }
   ],
   "source": [
    "y_samples = model[\"treeffuser\"].sample(\n",
    "    X_test, n_samples=1, n_parallel=100, n_steps=30, seed=0\n",
    ")\n",
    "preds[\"treeffuser\"] = y_samples.mean(axis=1)"
   ]
  },
  {
   "cell_type": "markdown",
   "metadata": {},
   "source": [
    "Next, we run NGBoost with Gaussian likelihood."
   ]
  },
  {
   "cell_type": "code",
   "execution_count": 8,
   "metadata": {
    "ExecuteTime": {
     "end_time": "2024-03-12T23:48:21.042093Z",
     "start_time": "2024-03-12T23:48:01.679514Z"
    }
   },
   "outputs": [
    {
     "name": "stderr",
     "output_type": "stream",
     "text": [
      "/Users/achille/miniconda3/envs/treefuse/lib/python3.11/site-packages/sklearn/utils/validation.py:1300: DataConversionWarning: A column-vector y was passed when a 1d array was expected. Please change the shape of y to (n_samples, ), for example using ravel().\n",
      "  y = column_or_1d(y, warn=True)\n",
      "/Users/achille/miniconda3/envs/treefuse/lib/python3.11/site-packages/sklearn/utils/validation.py:1300: DataConversionWarning: A column-vector y was passed when a 1d array was expected. Please change the shape of y to (n_samples, ), for example using ravel().\n",
      "  y = column_or_1d(y, warn=True)\n"
     ]
    },
    {
     "name": "stdout",
     "output_type": "stream",
     "text": [
      "[iter 0] loss=-3.4770 val_loss=-3.4645 scale=1.0000 norm=0.3850\n",
      "[iter 100] loss=-3.6774 val_loss=-3.6735 scale=2.0000 norm=0.6649\n",
      "[iter 200] loss=-3.8827 val_loss=-3.8809 scale=1.0000 norm=0.3309\n",
      "[iter 300] loss=-4.0624 val_loss=-4.0606 scale=1.0000 norm=0.3301\n",
      "[iter 400] loss=-4.2254 val_loss=-4.2170 scale=1.0000 norm=0.3349\n"
     ]
    }
   ],
   "source": [
    "model[\"ngb\"] = NGBRegressor(early_stopping_rounds=50)\n",
    "\n",
    "model[\"ngb\"].fit(X_train, y_train)\n",
    "\n",
    "y_dim = data[\"y\"].shape[1]\n",
    "preds[\"ngb\"] = model[\"ngb\"].predict(X_test).reshape((-1, y_dim))"
   ]
  },
  {
   "cell_type": "markdown",
   "metadata": {},
   "source": [
    "## Metrics"
   ]
  },
  {
   "cell_type": "code",
   "execution_count": 9,
   "metadata": {
    "ExecuteTime": {
     "end_time": "2024-03-12T23:48:21.046706Z",
     "start_time": "2024-03-12T23:48:21.042384Z"
    }
   },
   "outputs": [
    {
     "name": "stdout",
     "output_type": "stream",
     "text": [
      "+------------+-----------------------+-----------------------+-----------------------+----------------------+--------------------+--------------------+\n",
      "|   Method   |          mae          |          rmse         |          mdae         |        marpd         |         r2         |        corr        |\n",
      "+------------+-----------------------+-----------------------+-----------------------+----------------------+--------------------+--------------------+\n",
      "| treeffuser | 0.0005198843989037958 | 0.0007821756917792708 | 0.0001617188752605081 | 0.052644136268068215 | 0.9892636196676616 | 0.9946185939246414 |\n",
      "|    ngb     | 0.0030448647465668175 | 0.0038593207524945015 | 0.0024634541526422638 |  0.3084181684394628  | 0.7386208101861786 | 0.9257460083466912 |\n",
      "+------------+-----------------------+-----------------------+-----------------------+----------------------+--------------------+--------------------+\n"
     ]
    }
   ],
   "source": [
    "metrics = compare_accuracy(preds, y_test, print_table=True)"
   ]
  }
 ],
 "metadata": {
  "kernelspec": {
   "display_name": ".venv",
   "language": "python",
   "name": "python3"
  },
  "language_info": {
   "codemirror_mode": {
    "name": "ipython",
    "version": 3
   },
   "file_extension": ".py",
   "mimetype": "text/x-python",
   "name": "python",
   "nbconvert_exporter": "python",
   "pygments_lexer": "ipython3",
   "version": "3.11.5"
  }
 },
 "nbformat": 4,
 "nbformat_minor": 2
}
