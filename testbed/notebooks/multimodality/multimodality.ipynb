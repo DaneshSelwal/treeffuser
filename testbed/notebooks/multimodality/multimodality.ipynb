{
 "cells": [
  {
   "cell_type": "code",
   "execution_count": 3,
   "metadata": {},
   "outputs": [],
   "source": [
    "import numpy as np\n",
    "from numpy import ndarray\n",
    "\n",
    "from typing import List\n",
    "from typing import Optional\n",
    "from typing import Tuple\n",
    "from typing import Union\n",
    "from jaxtyping import Float\n",
    "\n",
    "\n",
    "class CustomRandomGenerator(np.random.Generator):\n",
    "    def gaussian_mixture(\n",
    "        self,\n",
    "        locs: List[float],\n",
    "        scales: List[float],\n",
    "        weights: Optional[List[float]] = None,\n",
    "        size: int = 1,\n",
    "    ) -> Float[ndarray, \"size\"]:\n",
    "        n_components = len(locs)\n",
    "\n",
    "        if weights is None:\n",
    "            weights = [1 / n_components] * n_components\n",
    "\n",
    "        component = self.choice(n_components, size=size, p=weights)\n",
    "        samples = self.normal(np.array(locs)[component], np.array(scales)[component])\n",
    "        return samples"
   ]
  },
  {
   "cell_type": "code",
   "execution_count": 1,
   "metadata": {},
   "outputs": [
    {
     "ename": "SyntaxError",
     "evalue": "incomplete input (1454950911.py, line 5)",
     "output_type": "error",
     "traceback": [
      "\u001b[0;36m  Cell \u001b[0;32mIn[1], line 5\u001b[0;36m\u001b[0m\n\u001b[0;31m    def generate_branching_multimodal(n):\u001b[0m\n\u001b[0m                                         ^\u001b[0m\n\u001b[0;31mSyntaxError\u001b[0m\u001b[0;31m:\u001b[0m incomplete input\n"
     ]
    }
   ],
   "source": [
    "# def generate_gaussian_mixture(locs, scales, weights=None):\n",
    "#     n_components = len(locs)\n",
    "#     if weights is None:\n",
    "#         weights = [1 / n_components] * n_components\n",
    "#     component = rng.choice(n_components, p=weights)\n",
    "#     return rng.normal(loc=locs[component], scale=scales[component])\n",
    "\n",
    "\n",
    "# def generate_branching_multimodal(n_samples):\n",
    "#     X = rng.uniform(low=0, high=1, size=n_samples).reshape(-1, 1)\n",
    "#     y = np.zeros_like(x)\n",
    "\n",
    "#     for i, x in enumerate(X):\n",
    "#         if x < 0.25:\n",
    "#             y[i] = gener"
   ]
  }
 ],
 "metadata": {
  "kernelspec": {
   "display_name": ".venv",
   "language": "python",
   "name": "python3"
  },
  "language_info": {
   "codemirror_mode": {
    "name": "ipython",
    "version": 3
   },
   "file_extension": ".py",
   "mimetype": "text/x-python",
   "name": "python",
   "nbconvert_exporter": "python",
   "pygments_lexer": "ipython3",
   "version": "3.11.5"
  }
 },
 "nbformat": 4,
 "nbformat_minor": 2
}
